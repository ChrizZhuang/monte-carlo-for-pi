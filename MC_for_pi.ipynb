{
 "cells": [
  {
   "cell_type": "markdown",
   "metadata": {},
   "source": [
    "# MC Integration\n",
    "\n",
    "We will use Monte Carlo (MC) to calculate $\\pi$ using the python standard library."
   ]
  },
  {
   "cell_type": "code",
   "execution_count": null,
   "metadata": {},
   "outputs": [],
   "source": [
    "import random\n",
    "import math"
   ]
  },
  {
   "cell_type": "code",
   "execution_count": null,
   "metadata": {},
   "outputs": [],
   "source": [
    "n_samples = 100\n",
    "\n",
    "n_inside = 0"
   ]
  },
  {
   "cell_type": "code",
   "execution_count": null,
   "metadata": {},
   "outputs": [],
   "source": [
    "for i in range(0, n_samples):\n",
    "    \n",
    "## Generate random points for x range from 0 to 1.\n",
    "    x = random.random()\n",
    "    \n",
    "## Generate random points for y range from 0 to 1. \n",
    "    y = random.random()\n",
    "    \n",
    "## Print the point.\n",
    "    #print(f'The generated point is ( {x}, {y})')\n",
    "    \n",
    "    distance_from_origin = math.sqrt(x ** 2 + y ** 2)\n",
    "    \n",
    "    if distance_from_origin < 1:\n",
    "        \n",
    "        n_inside += 1"
   ]
  },
  {
   "cell_type": "code",
   "execution_count": null,
   "metadata": {},
   "outputs": [],
   "source": [
    "## Calculate pi\n",
    "MC_pi = 4 * n_inside / n_samples \n",
    "\n",
    "print(MC_pi)"
   ]
  },
  {
   "cell_type": "code",
   "execution_count": null,
   "metadata": {},
   "outputs": [],
   "source": [
    "import matplotlib.pyplot as plt\n",
    "\n",
    "%matplotlib notebook"
   ]
  },
  {
   "cell_type": "code",
   "execution_count": null,
   "metadata": {},
   "outputs": [],
   "source": [
    "## Create an empty figure\n",
    "\n",
    "fig = plt.figure()\n",
    "ax = fig.add_subplot(111)\n",
    "fig.show()"
   ]
  },
  {
   "cell_type": "code",
   "execution_count": null,
   "metadata": {},
   "outputs": [],
   "source": [
    "n_samples = 1000\n",
    "\n",
    "n_inside = 0\n",
    "\n",
    "## Empty list for appending.\n",
    "calculated_pi = []\n",
    "\n",
    "n_values = []\n",
    "\n",
    "for i in range(1, n_samples):\n",
    "    \n",
    "## Generate random points for x range from 0 to 1.\n",
    "    x = random.random()\n",
    "    \n",
    "## Generate random points for y range from 0 to 1. \n",
    "    y = random.random()\n",
    "    \n",
    "## Print the point.\n",
    "    #print(f'The generated point is ( {x}, {y})')\n",
    "    \n",
    "    distance_from_origin = math.sqrt(x ** 2 + y ** 2)\n",
    "    \n",
    "    if distance_from_origin < 1:\n",
    "        \n",
    "        n_inside += 1\n",
    "        ax.plot(x, y,'ob')\n",
    "        \n",
    "    else:\n",
    "        ax.plot(x, y, 'r*')\n",
    "        \n",
    "    log10 = math.log(i, 10)\n",
    "    \n",
    "    if log10 % 1 == 0:\n",
    "        MC_pi = 4 * n_inside / i\n",
    "        calculated_pi.append(MC_pi)\n",
    "        n_values.append(i+1)\n",
    "        \n",
    "        print(f\"{i} \\t {MC_pi}\")"
   ]
  }
 ],
 "metadata": {
  "kernelspec": {
   "display_name": "Python 3",
   "language": "python",
   "name": "python3"
  },
  "language_info": {
   "codemirror_mode": {
    "name": "ipython",
    "version": 3
   },
   "file_extension": ".py",
   "mimetype": "text/x-python",
   "name": "python",
   "nbconvert_exporter": "python",
   "pygments_lexer": "ipython3",
   "version": "3.7.7"
  }
 },
 "nbformat": 4,
 "nbformat_minor": 4
}
